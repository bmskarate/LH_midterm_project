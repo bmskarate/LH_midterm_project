{
 "cells": [
  {
   "cell_type": "code",
   "execution_count": 2,
   "id": "ea3d153d",
   "metadata": {},
   "outputs": [],
   "source": [
    "import pandas as pd\n",
    "pd.set_option('display.max_columns', None)\n",
    "import numpy as np\n",
    "import random\n",
    "import matplotlib.pyplot as plt\n",
    "import seaborn as sns\n",
    "sns.set(font_scale=1.4)\n",
    "import copy\n",
    "import pickle"
   ]
  },
  {
   "cell_type": "code",
   "execution_count": 3,
   "id": "1bbc7611",
   "metadata": {},
   "outputs": [],
   "source": [
    "df = pd.read_csv(\"data/flights_cleaned_no_outlier_iqr_with_delays.csv\")"
   ]
  },
  {
   "cell_type": "code",
   "execution_count": 4,
   "id": "b331cf34",
   "metadata": {},
   "outputs": [
    {
     "data": {
      "text/html": [
       "<div>\n",
       "<style scoped>\n",
       "    .dataframe tbody tr th:only-of-type {\n",
       "        vertical-align: middle;\n",
       "    }\n",
       "\n",
       "    .dataframe tbody tr th {\n",
       "        vertical-align: top;\n",
       "    }\n",
       "\n",
       "    .dataframe thead th {\n",
       "        text-align: right;\n",
       "    }\n",
       "</style>\n",
       "<table border=\"1\" class=\"dataframe\">\n",
       "  <thead>\n",
       "    <tr style=\"text-align: right;\">\n",
       "      <th></th>\n",
       "      <th>Unnamed: 0</th>\n",
       "      <th>fl_date</th>\n",
       "      <th>mkt_unique_carrier</th>\n",
       "      <th>branded_code_share</th>\n",
       "      <th>mkt_carrier</th>\n",
       "      <th>mkt_carrier_fl_num</th>\n",
       "      <th>op_unique_carrier</th>\n",
       "      <th>op_carrier_fl_num</th>\n",
       "      <th>origin_airport_id</th>\n",
       "      <th>origin</th>\n",
       "      <th>origin_city_name</th>\n",
       "      <th>dest_airport_id</th>\n",
       "      <th>dest</th>\n",
       "      <th>dest_city_name</th>\n",
       "      <th>crs_dep_time</th>\n",
       "      <th>dep_time</th>\n",
       "      <th>dep_delay</th>\n",
       "      <th>taxi_out</th>\n",
       "      <th>wheels_off</th>\n",
       "      <th>wheels_on</th>\n",
       "      <th>taxi_in</th>\n",
       "      <th>crs_arr_time</th>\n",
       "      <th>arr_time</th>\n",
       "      <th>arr_delay</th>\n",
       "      <th>dup</th>\n",
       "      <th>crs_elapsed_time</th>\n",
       "      <th>actual_elapsed_time</th>\n",
       "      <th>air_time</th>\n",
       "      <th>flights</th>\n",
       "      <th>distance</th>\n",
       "      <th>carrier_delay</th>\n",
       "      <th>weather_delay</th>\n",
       "      <th>nas_delay</th>\n",
       "      <th>security_delay</th>\n",
       "      <th>late_aircraft_delay</th>\n",
       "      <th>weather_type</th>\n",
       "      <th>passengers</th>\n",
       "      <th>month</th>\n",
       "      <th>combined_delay</th>\n",
       "    </tr>\n",
       "  </thead>\n",
       "  <tbody>\n",
       "    <tr>\n",
       "      <th>0</th>\n",
       "      <td>0</td>\n",
       "      <td>2019-10-02</td>\n",
       "      <td>AA</td>\n",
       "      <td>AA_CODESHARE</td>\n",
       "      <td>AA</td>\n",
       "      <td>5330</td>\n",
       "      <td>OH</td>\n",
       "      <td>5330</td>\n",
       "      <td>10581</td>\n",
       "      <td>BGR</td>\n",
       "      <td>Bangor, ME</td>\n",
       "      <td>11278</td>\n",
       "      <td>DCA</td>\n",
       "      <td>Washington, DC</td>\n",
       "      <td>543</td>\n",
       "      <td>535.0</td>\n",
       "      <td>-8.0</td>\n",
       "      <td>11.0</td>\n",
       "      <td>546.0</td>\n",
       "      <td>726.0</td>\n",
       "      <td>5.0</td>\n",
       "      <td>749</td>\n",
       "      <td>731.0</td>\n",
       "      <td>-18.0</td>\n",
       "      <td>N</td>\n",
       "      <td>126.0</td>\n",
       "      <td>116.0</td>\n",
       "      <td>100.0</td>\n",
       "      <td>1.0</td>\n",
       "      <td>590.0</td>\n",
       "      <td>0.0</td>\n",
       "      <td>0.0</td>\n",
       "      <td>0.0</td>\n",
       "      <td>0.0</td>\n",
       "      <td>0.0</td>\n",
       "      <td>Rainy</td>\n",
       "      <td>85523.0</td>\n",
       "      <td>1788.0</td>\n",
       "      <td>0.0</td>\n",
       "    </tr>\n",
       "    <tr>\n",
       "      <th>1</th>\n",
       "      <td>3</td>\n",
       "      <td>2019-10-02</td>\n",
       "      <td>AA</td>\n",
       "      <td>AA_CODESHARE</td>\n",
       "      <td>AA</td>\n",
       "      <td>3073</td>\n",
       "      <td>OO</td>\n",
       "      <td>3073</td>\n",
       "      <td>10581</td>\n",
       "      <td>BGR</td>\n",
       "      <td>Bangor, ME</td>\n",
       "      <td>13930</td>\n",
       "      <td>ORD</td>\n",
       "      <td>Chicago, IL</td>\n",
       "      <td>1328</td>\n",
       "      <td>1324.0</td>\n",
       "      <td>-4.0</td>\n",
       "      <td>17.0</td>\n",
       "      <td>1341.0</td>\n",
       "      <td>1515.0</td>\n",
       "      <td>14.0</td>\n",
       "      <td>1530</td>\n",
       "      <td>1529.0</td>\n",
       "      <td>-1.0</td>\n",
       "      <td>N</td>\n",
       "      <td>182.0</td>\n",
       "      <td>185.0</td>\n",
       "      <td>154.0</td>\n",
       "      <td>1.0</td>\n",
       "      <td>978.0</td>\n",
       "      <td>0.0</td>\n",
       "      <td>0.0</td>\n",
       "      <td>0.0</td>\n",
       "      <td>0.0</td>\n",
       "      <td>0.0</td>\n",
       "      <td>Rainy</td>\n",
       "      <td>85523.0</td>\n",
       "      <td>1788.0</td>\n",
       "      <td>0.0</td>\n",
       "    </tr>\n",
       "    <tr>\n",
       "      <th>2</th>\n",
       "      <td>4</td>\n",
       "      <td>2019-10-02</td>\n",
       "      <td>AA</td>\n",
       "      <td>AA_CODESHARE</td>\n",
       "      <td>AA</td>\n",
       "      <td>4023</td>\n",
       "      <td>MQ</td>\n",
       "      <td>4023</td>\n",
       "      <td>10581</td>\n",
       "      <td>BGR</td>\n",
       "      <td>Bangor, ME</td>\n",
       "      <td>12953</td>\n",
       "      <td>LGA</td>\n",
       "      <td>New York, NY</td>\n",
       "      <td>1449</td>\n",
       "      <td>1449.0</td>\n",
       "      <td>0.0</td>\n",
       "      <td>13.0</td>\n",
       "      <td>1502.0</td>\n",
       "      <td>1612.0</td>\n",
       "      <td>2.0</td>\n",
       "      <td>1629</td>\n",
       "      <td>1614.0</td>\n",
       "      <td>-15.0</td>\n",
       "      <td>N</td>\n",
       "      <td>100.0</td>\n",
       "      <td>85.0</td>\n",
       "      <td>70.0</td>\n",
       "      <td>1.0</td>\n",
       "      <td>378.0</td>\n",
       "      <td>0.0</td>\n",
       "      <td>0.0</td>\n",
       "      <td>0.0</td>\n",
       "      <td>0.0</td>\n",
       "      <td>0.0</td>\n",
       "      <td>Rainy</td>\n",
       "      <td>85523.0</td>\n",
       "      <td>1788.0</td>\n",
       "      <td>0.0</td>\n",
       "    </tr>\n",
       "    <tr>\n",
       "      <th>3</th>\n",
       "      <td>5</td>\n",
       "      <td>2019-10-02</td>\n",
       "      <td>G4</td>\n",
       "      <td>G4</td>\n",
       "      <td>G4</td>\n",
       "      <td>2119</td>\n",
       "      <td>G4</td>\n",
       "      <td>2119</td>\n",
       "      <td>10581</td>\n",
       "      <td>BGR</td>\n",
       "      <td>Bangor, ME</td>\n",
       "      <td>14761</td>\n",
       "      <td>SFB</td>\n",
       "      <td>Sanford, FL</td>\n",
       "      <td>1301</td>\n",
       "      <td>1308.0</td>\n",
       "      <td>7.0</td>\n",
       "      <td>7.0</td>\n",
       "      <td>1315.0</td>\n",
       "      <td>1554.0</td>\n",
       "      <td>5.0</td>\n",
       "      <td>1623</td>\n",
       "      <td>1559.0</td>\n",
       "      <td>-24.0</td>\n",
       "      <td>N</td>\n",
       "      <td>202.0</td>\n",
       "      <td>171.0</td>\n",
       "      <td>159.0</td>\n",
       "      <td>1.0</td>\n",
       "      <td>1299.0</td>\n",
       "      <td>0.0</td>\n",
       "      <td>0.0</td>\n",
       "      <td>0.0</td>\n",
       "      <td>0.0</td>\n",
       "      <td>0.0</td>\n",
       "      <td>Rainy</td>\n",
       "      <td>85523.0</td>\n",
       "      <td>1788.0</td>\n",
       "      <td>0.0</td>\n",
       "    </tr>\n",
       "    <tr>\n",
       "      <th>4</th>\n",
       "      <td>7</td>\n",
       "      <td>2019-10-02</td>\n",
       "      <td>AA</td>\n",
       "      <td>AA_CODESHARE</td>\n",
       "      <td>AA</td>\n",
       "      <td>4730</td>\n",
       "      <td>PT</td>\n",
       "      <td>4730</td>\n",
       "      <td>10581</td>\n",
       "      <td>BGR</td>\n",
       "      <td>Bangor, ME</td>\n",
       "      <td>14100</td>\n",
       "      <td>PHL</td>\n",
       "      <td>Philadelphia, PA</td>\n",
       "      <td>1001</td>\n",
       "      <td>951.0</td>\n",
       "      <td>-10.0</td>\n",
       "      <td>9.0</td>\n",
       "      <td>1000.0</td>\n",
       "      <td>1127.0</td>\n",
       "      <td>7.0</td>\n",
       "      <td>1149</td>\n",
       "      <td>1134.0</td>\n",
       "      <td>-15.0</td>\n",
       "      <td>N</td>\n",
       "      <td>108.0</td>\n",
       "      <td>103.0</td>\n",
       "      <td>87.0</td>\n",
       "      <td>1.0</td>\n",
       "      <td>473.0</td>\n",
       "      <td>0.0</td>\n",
       "      <td>0.0</td>\n",
       "      <td>0.0</td>\n",
       "      <td>0.0</td>\n",
       "      <td>0.0</td>\n",
       "      <td>Rainy</td>\n",
       "      <td>85523.0</td>\n",
       "      <td>1788.0</td>\n",
       "      <td>0.0</td>\n",
       "    </tr>\n",
       "  </tbody>\n",
       "</table>\n",
       "</div>"
      ],
      "text/plain": [
       "   Unnamed: 0     fl_date mkt_unique_carrier branded_code_share mkt_carrier  \\\n",
       "0           0  2019-10-02                 AA       AA_CODESHARE          AA   \n",
       "1           3  2019-10-02                 AA       AA_CODESHARE          AA   \n",
       "2           4  2019-10-02                 AA       AA_CODESHARE          AA   \n",
       "3           5  2019-10-02                 G4                 G4          G4   \n",
       "4           7  2019-10-02                 AA       AA_CODESHARE          AA   \n",
       "\n",
       "   mkt_carrier_fl_num op_unique_carrier  op_carrier_fl_num  origin_airport_id  \\\n",
       "0                5330                OH               5330              10581   \n",
       "1                3073                OO               3073              10581   \n",
       "2                4023                MQ               4023              10581   \n",
       "3                2119                G4               2119              10581   \n",
       "4                4730                PT               4730              10581   \n",
       "\n",
       "  origin origin_city_name  dest_airport_id dest    dest_city_name  \\\n",
       "0    BGR       Bangor, ME            11278  DCA    Washington, DC   \n",
       "1    BGR       Bangor, ME            13930  ORD       Chicago, IL   \n",
       "2    BGR       Bangor, ME            12953  LGA      New York, NY   \n",
       "3    BGR       Bangor, ME            14761  SFB       Sanford, FL   \n",
       "4    BGR       Bangor, ME            14100  PHL  Philadelphia, PA   \n",
       "\n",
       "   crs_dep_time  dep_time  dep_delay  taxi_out  wheels_off  wheels_on  \\\n",
       "0           543     535.0       -8.0      11.0       546.0      726.0   \n",
       "1          1328    1324.0       -4.0      17.0      1341.0     1515.0   \n",
       "2          1449    1449.0        0.0      13.0      1502.0     1612.0   \n",
       "3          1301    1308.0        7.0       7.0      1315.0     1554.0   \n",
       "4          1001     951.0      -10.0       9.0      1000.0     1127.0   \n",
       "\n",
       "   taxi_in  crs_arr_time  arr_time  arr_delay dup  crs_elapsed_time  \\\n",
       "0      5.0           749     731.0      -18.0   N             126.0   \n",
       "1     14.0          1530    1529.0       -1.0   N             182.0   \n",
       "2      2.0          1629    1614.0      -15.0   N             100.0   \n",
       "3      5.0          1623    1559.0      -24.0   N             202.0   \n",
       "4      7.0          1149    1134.0      -15.0   N             108.0   \n",
       "\n",
       "   actual_elapsed_time  air_time  flights  distance  carrier_delay  \\\n",
       "0                116.0     100.0      1.0     590.0            0.0   \n",
       "1                185.0     154.0      1.0     978.0            0.0   \n",
       "2                 85.0      70.0      1.0     378.0            0.0   \n",
       "3                171.0     159.0      1.0    1299.0            0.0   \n",
       "4                103.0      87.0      1.0     473.0            0.0   \n",
       "\n",
       "   weather_delay  nas_delay  security_delay  late_aircraft_delay weather_type  \\\n",
       "0            0.0        0.0             0.0                  0.0        Rainy   \n",
       "1            0.0        0.0             0.0                  0.0        Rainy   \n",
       "2            0.0        0.0             0.0                  0.0        Rainy   \n",
       "3            0.0        0.0             0.0                  0.0        Rainy   \n",
       "4            0.0        0.0             0.0                  0.0        Rainy   \n",
       "\n",
       "   passengers   month  combined_delay  \n",
       "0     85523.0  1788.0             0.0  \n",
       "1     85523.0  1788.0             0.0  \n",
       "2     85523.0  1788.0             0.0  \n",
       "3     85523.0  1788.0             0.0  \n",
       "4     85523.0  1788.0             0.0  "
      ]
     },
     "execution_count": 4,
     "metadata": {},
     "output_type": "execute_result"
    }
   ],
   "source": [
    "df.head()"
   ]
  },
  {
   "cell_type": "markdown",
   "id": "5cd24b5a",
   "metadata": {},
   "source": [
    "# Prepare data for feature selection"
   ]
  },
  {
   "cell_type": "markdown",
   "id": "5623116a",
   "metadata": {},
   "source": [
    "# Feature selection"
   ]
  },
  {
   "cell_type": "code",
   "execution_count": 5,
   "id": "947f1e63",
   "metadata": {},
   "outputs": [],
   "source": [
    "# https://scikit-learn.org/stable/modules/feature_selection.html"
   ]
  },
  {
   "cell_type": "code",
   "execution_count": 6,
   "id": "7e06fc9d",
   "metadata": {},
   "outputs": [],
   "source": [
    "## After testing, found most suitable columns and will remap for final modelling"
   ]
  },
  {
   "cell_type": "code",
   "execution_count": 7,
   "id": "4cc7b278",
   "metadata": {},
   "outputs": [
    {
     "data": {
      "text/plain": [
       "'\\nAccording to plots:\\nWeather weight: Snow=10, Rain=5, Cloudy=2, Sunny=1\\nTime weight: 0-500 = 1, 501-1000 = 8, 1001-1500 = 10, 1501-2000 = 8, 2001 > = 5\\nMonth weight = Oct = 1, Nov, Jan = 5, Dec = 10\\n'"
      ]
     },
     "execution_count": 7,
     "metadata": {},
     "output_type": "execute_result"
    }
   ],
   "source": [
    "very_important_columns = [ # ran with what the test data can do\n",
    "    'fl_date', # get month and bin\n",
    "#     'op_unique_carrier', # most extensive name list\n",
    "#     'origin', # need 'origin' to merge weather but already merged! ;)\n",
    "#     'dest_airport_id', # not sure about this one\n",
    "    'crs_dep_time', # bin times\n",
    "#     'dep_time', # only using in TRAIN, to learn how other columns affect this\n",
    "#     'crs_arr_time',\n",
    "#     'arr_time', # only using in TRAIN, to learn how other columns affect this\n",
    "    'weather_type', # add weight values\n",
    "#     'passengers', # not sure about this one\n",
    "    'arr_delay' # so we can make a target column...\n",
    "] # important columns seem to be weather(4), time(bin), month(constant)\n",
    "'''\n",
    "According to plots:\n",
    "Weather weight: Snow=10, Rain=5, Cloudy=2, Sunny=1\n",
    "Time weight: 0-500 = 1, 501-1000 = 8, 1001-1500 = 10, 1501-2000 = 8, 2001 > = 5\n",
    "Month weight = Oct = 1, Nov, Jan = 5, Dec = 10\n",
    "'''"
   ]
  },
  {
   "cell_type": "code",
   "execution_count": 8,
   "id": "09c7f4a4",
   "metadata": {},
   "outputs": [],
   "source": [
    "df_ = df.filter(items=very_important_columns)"
   ]
  },
  {
   "cell_type": "code",
   "execution_count": 9,
   "id": "da7331ca",
   "metadata": {},
   "outputs": [
    {
     "data": {
      "text/html": [
       "<div>\n",
       "<style scoped>\n",
       "    .dataframe tbody tr th:only-of-type {\n",
       "        vertical-align: middle;\n",
       "    }\n",
       "\n",
       "    .dataframe tbody tr th {\n",
       "        vertical-align: top;\n",
       "    }\n",
       "\n",
       "    .dataframe thead th {\n",
       "        text-align: right;\n",
       "    }\n",
       "</style>\n",
       "<table border=\"1\" class=\"dataframe\">\n",
       "  <thead>\n",
       "    <tr style=\"text-align: right;\">\n",
       "      <th></th>\n",
       "      <th>fl_date</th>\n",
       "      <th>crs_dep_time</th>\n",
       "      <th>weather_type</th>\n",
       "      <th>arr_delay</th>\n",
       "    </tr>\n",
       "  </thead>\n",
       "  <tbody>\n",
       "    <tr>\n",
       "      <th>0</th>\n",
       "      <td>2019-10-02</td>\n",
       "      <td>543</td>\n",
       "      <td>Rainy</td>\n",
       "      <td>-18.0</td>\n",
       "    </tr>\n",
       "    <tr>\n",
       "      <th>1</th>\n",
       "      <td>2019-10-02</td>\n",
       "      <td>1328</td>\n",
       "      <td>Rainy</td>\n",
       "      <td>-1.0</td>\n",
       "    </tr>\n",
       "    <tr>\n",
       "      <th>2</th>\n",
       "      <td>2019-10-02</td>\n",
       "      <td>1449</td>\n",
       "      <td>Rainy</td>\n",
       "      <td>-15.0</td>\n",
       "    </tr>\n",
       "    <tr>\n",
       "      <th>3</th>\n",
       "      <td>2019-10-02</td>\n",
       "      <td>1301</td>\n",
       "      <td>Rainy</td>\n",
       "      <td>-24.0</td>\n",
       "    </tr>\n",
       "    <tr>\n",
       "      <th>4</th>\n",
       "      <td>2019-10-02</td>\n",
       "      <td>1001</td>\n",
       "      <td>Rainy</td>\n",
       "      <td>-15.0</td>\n",
       "    </tr>\n",
       "  </tbody>\n",
       "</table>\n",
       "</div>"
      ],
      "text/plain": [
       "      fl_date  crs_dep_time weather_type  arr_delay\n",
       "0  2019-10-02           543        Rainy      -18.0\n",
       "1  2019-10-02          1328        Rainy       -1.0\n",
       "2  2019-10-02          1449        Rainy      -15.0\n",
       "3  2019-10-02          1301        Rainy      -24.0\n",
       "4  2019-10-02          1001        Rainy      -15.0"
      ]
     },
     "execution_count": 9,
     "metadata": {},
     "output_type": "execute_result"
    }
   ],
   "source": [
    "df_.head()"
   ]
  },
  {
   "cell_type": "markdown",
   "id": "b9620d5c",
   "metadata": {},
   "source": [
    "# remapping crs_dep_time"
   ]
  },
  {
   "cell_type": "code",
   "execution_count": 10,
   "id": "7791ac63",
   "metadata": {},
   "outputs": [],
   "source": [
    "# Time weight: 0-500 = 1, 501-1000 = 8, 1001-1500 = 10, 1501-2000 = 8, 2001 > = 5\n",
    "df_.crs_dep_time = df_.crs_dep_time // 100\n",
    "crs_dep_time_remap = {\n",
    "    0: 0.10,\n",
    "    1: 0.10, \n",
    "    2: 0.10,\n",
    "    3: 0.10, \n",
    "    4: 0.10,\n",
    "    5: 0.10, \n",
    "    6: 0.80,\n",
    "    7: 0.80, \n",
    "    8: 0.80,\n",
    "    9: 0.80, \n",
    "    10: 0.80,\n",
    "    11: 1, \n",
    "    12: 1,\n",
    "    13: 1, \n",
    "    14: 1,\n",
    "    15: 1, \n",
    "    16: 0.80,\n",
    "    17: 0.80,\n",
    "    18: 0.80,\n",
    "    19: 0.80, \n",
    "    20: 0.80,\n",
    "    21: 0.50, \n",
    "    22: 0.50, \n",
    "    23: 0.50\n",
    "}\n",
    "df_[\"dep_time_hour_weight\"] = df_.crs_dep_time.map(crs_dep_time_remap)"
   ]
  },
  {
   "cell_type": "code",
   "execution_count": 11,
   "id": "90fa372a",
   "metadata": {},
   "outputs": [
    {
     "data": {
      "text/html": [
       "<div>\n",
       "<style scoped>\n",
       "    .dataframe tbody tr th:only-of-type {\n",
       "        vertical-align: middle;\n",
       "    }\n",
       "\n",
       "    .dataframe tbody tr th {\n",
       "        vertical-align: top;\n",
       "    }\n",
       "\n",
       "    .dataframe thead th {\n",
       "        text-align: right;\n",
       "    }\n",
       "</style>\n",
       "<table border=\"1\" class=\"dataframe\">\n",
       "  <thead>\n",
       "    <tr style=\"text-align: right;\">\n",
       "      <th></th>\n",
       "      <th>fl_date</th>\n",
       "      <th>crs_dep_time</th>\n",
       "      <th>weather_type</th>\n",
       "      <th>arr_delay</th>\n",
       "      <th>dep_time_hour_weight</th>\n",
       "    </tr>\n",
       "  </thead>\n",
       "  <tbody>\n",
       "    <tr>\n",
       "      <th>0</th>\n",
       "      <td>2019-10-02</td>\n",
       "      <td>5</td>\n",
       "      <td>Rainy</td>\n",
       "      <td>-18.0</td>\n",
       "      <td>0.1</td>\n",
       "    </tr>\n",
       "    <tr>\n",
       "      <th>1</th>\n",
       "      <td>2019-10-02</td>\n",
       "      <td>13</td>\n",
       "      <td>Rainy</td>\n",
       "      <td>-1.0</td>\n",
       "      <td>1.0</td>\n",
       "    </tr>\n",
       "    <tr>\n",
       "      <th>2</th>\n",
       "      <td>2019-10-02</td>\n",
       "      <td>14</td>\n",
       "      <td>Rainy</td>\n",
       "      <td>-15.0</td>\n",
       "      <td>1.0</td>\n",
       "    </tr>\n",
       "    <tr>\n",
       "      <th>3</th>\n",
       "      <td>2019-10-02</td>\n",
       "      <td>13</td>\n",
       "      <td>Rainy</td>\n",
       "      <td>-24.0</td>\n",
       "      <td>1.0</td>\n",
       "    </tr>\n",
       "    <tr>\n",
       "      <th>4</th>\n",
       "      <td>2019-10-02</td>\n",
       "      <td>10</td>\n",
       "      <td>Rainy</td>\n",
       "      <td>-15.0</td>\n",
       "      <td>0.8</td>\n",
       "    </tr>\n",
       "  </tbody>\n",
       "</table>\n",
       "</div>"
      ],
      "text/plain": [
       "      fl_date  crs_dep_time weather_type  arr_delay  dep_time_hour_weight\n",
       "0  2019-10-02             5        Rainy      -18.0                   0.1\n",
       "1  2019-10-02            13        Rainy       -1.0                   1.0\n",
       "2  2019-10-02            14        Rainy      -15.0                   1.0\n",
       "3  2019-10-02            13        Rainy      -24.0                   1.0\n",
       "4  2019-10-02            10        Rainy      -15.0                   0.8"
      ]
     },
     "execution_count": 11,
     "metadata": {},
     "output_type": "execute_result"
    }
   ],
   "source": [
    "df_.head()"
   ]
  },
  {
   "cell_type": "code",
   "execution_count": 12,
   "id": "44ef0086",
   "metadata": {},
   "outputs": [
    {
     "data": {
      "text/plain": [
       "fl_date                 0\n",
       "crs_dep_time            0\n",
       "weather_type            0\n",
       "arr_delay               0\n",
       "dep_time_hour_weight    0\n",
       "dtype: int64"
      ]
     },
     "execution_count": 12,
     "metadata": {},
     "output_type": "execute_result"
    }
   ],
   "source": [
    "df_.isna().sum()"
   ]
  },
  {
   "cell_type": "markdown",
   "id": "58d72a67",
   "metadata": {},
   "source": [
    "# remapping fl_date to month"
   ]
  },
  {
   "cell_type": "code",
   "execution_count": 13,
   "id": "fdb4e411",
   "metadata": {},
   "outputs": [],
   "source": [
    "df_[\"month\"] = [ i [5:7] for i in df_.fl_date ]\n",
    "# change to datetime and get day of week"
   ]
  },
  {
   "cell_type": "code",
   "execution_count": 14,
   "id": "4473f4c0",
   "metadata": {},
   "outputs": [
    {
     "data": {
      "text/html": [
       "<div>\n",
       "<style scoped>\n",
       "    .dataframe tbody tr th:only-of-type {\n",
       "        vertical-align: middle;\n",
       "    }\n",
       "\n",
       "    .dataframe tbody tr th {\n",
       "        vertical-align: top;\n",
       "    }\n",
       "\n",
       "    .dataframe thead th {\n",
       "        text-align: right;\n",
       "    }\n",
       "</style>\n",
       "<table border=\"1\" class=\"dataframe\">\n",
       "  <thead>\n",
       "    <tr style=\"text-align: right;\">\n",
       "      <th></th>\n",
       "      <th>fl_date</th>\n",
       "      <th>crs_dep_time</th>\n",
       "      <th>weather_type</th>\n",
       "      <th>arr_delay</th>\n",
       "      <th>dep_time_hour_weight</th>\n",
       "      <th>month</th>\n",
       "    </tr>\n",
       "  </thead>\n",
       "  <tbody>\n",
       "    <tr>\n",
       "      <th>0</th>\n",
       "      <td>2019-10-02</td>\n",
       "      <td>5</td>\n",
       "      <td>Rainy</td>\n",
       "      <td>-18.0</td>\n",
       "      <td>0.1</td>\n",
       "      <td>10</td>\n",
       "    </tr>\n",
       "    <tr>\n",
       "      <th>1</th>\n",
       "      <td>2019-10-02</td>\n",
       "      <td>13</td>\n",
       "      <td>Rainy</td>\n",
       "      <td>-1.0</td>\n",
       "      <td>1.0</td>\n",
       "      <td>10</td>\n",
       "    </tr>\n",
       "    <tr>\n",
       "      <th>2</th>\n",
       "      <td>2019-10-02</td>\n",
       "      <td>14</td>\n",
       "      <td>Rainy</td>\n",
       "      <td>-15.0</td>\n",
       "      <td>1.0</td>\n",
       "      <td>10</td>\n",
       "    </tr>\n",
       "    <tr>\n",
       "      <th>3</th>\n",
       "      <td>2019-10-02</td>\n",
       "      <td>13</td>\n",
       "      <td>Rainy</td>\n",
       "      <td>-24.0</td>\n",
       "      <td>1.0</td>\n",
       "      <td>10</td>\n",
       "    </tr>\n",
       "    <tr>\n",
       "      <th>4</th>\n",
       "      <td>2019-10-02</td>\n",
       "      <td>10</td>\n",
       "      <td>Rainy</td>\n",
       "      <td>-15.0</td>\n",
       "      <td>0.8</td>\n",
       "      <td>10</td>\n",
       "    </tr>\n",
       "    <tr>\n",
       "      <th>...</th>\n",
       "      <td>...</td>\n",
       "      <td>...</td>\n",
       "      <td>...</td>\n",
       "      <td>...</td>\n",
       "      <td>...</td>\n",
       "      <td>...</td>\n",
       "    </tr>\n",
       "    <tr>\n",
       "      <th>2073110</th>\n",
       "      <td>2019-01-01</td>\n",
       "      <td>18</td>\n",
       "      <td>Sunny</td>\n",
       "      <td>-10.0</td>\n",
       "      <td>0.8</td>\n",
       "      <td>01</td>\n",
       "    </tr>\n",
       "    <tr>\n",
       "      <th>2073111</th>\n",
       "      <td>2019-01-01</td>\n",
       "      <td>10</td>\n",
       "      <td>Sunny</td>\n",
       "      <td>-30.0</td>\n",
       "      <td>0.8</td>\n",
       "      <td>01</td>\n",
       "    </tr>\n",
       "    <tr>\n",
       "      <th>2073112</th>\n",
       "      <td>2019-01-01</td>\n",
       "      <td>13</td>\n",
       "      <td>Rainy</td>\n",
       "      <td>-11.0</td>\n",
       "      <td>1.0</td>\n",
       "      <td>01</td>\n",
       "    </tr>\n",
       "    <tr>\n",
       "      <th>2073113</th>\n",
       "      <td>2019-01-01</td>\n",
       "      <td>19</td>\n",
       "      <td>Rainy</td>\n",
       "      <td>-19.0</td>\n",
       "      <td>0.8</td>\n",
       "      <td>01</td>\n",
       "    </tr>\n",
       "    <tr>\n",
       "      <th>2073114</th>\n",
       "      <td>2019-01-01</td>\n",
       "      <td>6</td>\n",
       "      <td>Rainy</td>\n",
       "      <td>-33.0</td>\n",
       "      <td>0.8</td>\n",
       "      <td>01</td>\n",
       "    </tr>\n",
       "  </tbody>\n",
       "</table>\n",
       "<p>2073115 rows × 6 columns</p>\n",
       "</div>"
      ],
      "text/plain": [
       "            fl_date  crs_dep_time weather_type  arr_delay  \\\n",
       "0        2019-10-02             5        Rainy      -18.0   \n",
       "1        2019-10-02            13        Rainy       -1.0   \n",
       "2        2019-10-02            14        Rainy      -15.0   \n",
       "3        2019-10-02            13        Rainy      -24.0   \n",
       "4        2019-10-02            10        Rainy      -15.0   \n",
       "...             ...           ...          ...        ...   \n",
       "2073110  2019-01-01            18        Sunny      -10.0   \n",
       "2073111  2019-01-01            10        Sunny      -30.0   \n",
       "2073112  2019-01-01            13        Rainy      -11.0   \n",
       "2073113  2019-01-01            19        Rainy      -19.0   \n",
       "2073114  2019-01-01             6        Rainy      -33.0   \n",
       "\n",
       "         dep_time_hour_weight month  \n",
       "0                         0.1    10  \n",
       "1                         1.0    10  \n",
       "2                         1.0    10  \n",
       "3                         1.0    10  \n",
       "4                         0.8    10  \n",
       "...                       ...   ...  \n",
       "2073110                   0.8    01  \n",
       "2073111                   0.8    01  \n",
       "2073112                   1.0    01  \n",
       "2073113                   0.8    01  \n",
       "2073114                   0.8    01  \n",
       "\n",
       "[2073115 rows x 6 columns]"
      ]
     },
     "execution_count": 14,
     "metadata": {},
     "output_type": "execute_result"
    }
   ],
   "source": [
    "df_"
   ]
  },
  {
   "cell_type": "code",
   "execution_count": 15,
   "id": "843118e2",
   "metadata": {},
   "outputs": [],
   "source": [
    "# don't drop next time\n",
    "df_ = df_.drop(labels=\"fl_date\", axis=1)"
   ]
  },
  {
   "cell_type": "code",
   "execution_count": 16,
   "id": "539a24a3",
   "metadata": {},
   "outputs": [
    {
     "data": {
      "text/html": [
       "<div>\n",
       "<style scoped>\n",
       "    .dataframe tbody tr th:only-of-type {\n",
       "        vertical-align: middle;\n",
       "    }\n",
       "\n",
       "    .dataframe tbody tr th {\n",
       "        vertical-align: top;\n",
       "    }\n",
       "\n",
       "    .dataframe thead th {\n",
       "        text-align: right;\n",
       "    }\n",
       "</style>\n",
       "<table border=\"1\" class=\"dataframe\">\n",
       "  <thead>\n",
       "    <tr style=\"text-align: right;\">\n",
       "      <th></th>\n",
       "      <th>crs_dep_time</th>\n",
       "      <th>weather_type</th>\n",
       "      <th>arr_delay</th>\n",
       "      <th>dep_time_hour_weight</th>\n",
       "      <th>month</th>\n",
       "    </tr>\n",
       "  </thead>\n",
       "  <tbody>\n",
       "    <tr>\n",
       "      <th>0</th>\n",
       "      <td>5</td>\n",
       "      <td>Rainy</td>\n",
       "      <td>-18.0</td>\n",
       "      <td>0.1</td>\n",
       "      <td>10</td>\n",
       "    </tr>\n",
       "    <tr>\n",
       "      <th>1</th>\n",
       "      <td>13</td>\n",
       "      <td>Rainy</td>\n",
       "      <td>-1.0</td>\n",
       "      <td>1.0</td>\n",
       "      <td>10</td>\n",
       "    </tr>\n",
       "    <tr>\n",
       "      <th>2</th>\n",
       "      <td>14</td>\n",
       "      <td>Rainy</td>\n",
       "      <td>-15.0</td>\n",
       "      <td>1.0</td>\n",
       "      <td>10</td>\n",
       "    </tr>\n",
       "    <tr>\n",
       "      <th>3</th>\n",
       "      <td>13</td>\n",
       "      <td>Rainy</td>\n",
       "      <td>-24.0</td>\n",
       "      <td>1.0</td>\n",
       "      <td>10</td>\n",
       "    </tr>\n",
       "    <tr>\n",
       "      <th>4</th>\n",
       "      <td>10</td>\n",
       "      <td>Rainy</td>\n",
       "      <td>-15.0</td>\n",
       "      <td>0.8</td>\n",
       "      <td>10</td>\n",
       "    </tr>\n",
       "  </tbody>\n",
       "</table>\n",
       "</div>"
      ],
      "text/plain": [
       "   crs_dep_time weather_type  arr_delay  dep_time_hour_weight month\n",
       "0             5        Rainy      -18.0                   0.1    10\n",
       "1            13        Rainy       -1.0                   1.0    10\n",
       "2            14        Rainy      -15.0                   1.0    10\n",
       "3            13        Rainy      -24.0                   1.0    10\n",
       "4            10        Rainy      -15.0                   0.8    10"
      ]
     },
     "execution_count": 16,
     "metadata": {},
     "output_type": "execute_result"
    }
   ],
   "source": [
    "df_.head()"
   ]
  },
  {
   "cell_type": "code",
   "execution_count": 17,
   "id": "9e02f113",
   "metadata": {},
   "outputs": [
    {
     "data": {
      "text/plain": [
       "crs_dep_time            0\n",
       "weather_type            0\n",
       "arr_delay               0\n",
       "dep_time_hour_weight    0\n",
       "month                   0\n",
       "dtype: int64"
      ]
     },
     "execution_count": 17,
     "metadata": {},
     "output_type": "execute_result"
    }
   ],
   "source": [
    "df_.isna().sum()"
   ]
  },
  {
   "cell_type": "code",
   "execution_count": 18,
   "id": "a3655aaf",
   "metadata": {},
   "outputs": [
    {
     "data": {
      "text/plain": [
       "array(['10', '11', '12', '01'], dtype=object)"
      ]
     },
     "execution_count": 18,
     "metadata": {},
     "output_type": "execute_result"
    }
   ],
   "source": [
    "df_.month.unique()"
   ]
  },
  {
   "cell_type": "code",
   "execution_count": 19,
   "id": "5147c739",
   "metadata": {},
   "outputs": [],
   "source": [
    "# Month weight = Oct = 1, Nov, Jan = 5, Dec = 10\n",
    "month_remap = { \n",
    "    '10': 0.10,\n",
    "    '11': 0.50, \n",
    "    '12': 1,\n",
    "    '01': 0.50\n",
    "}\n",
    "df_[\"month_weight\"] = df_.month.map(month_remap)"
   ]
  },
  {
   "cell_type": "code",
   "execution_count": 20,
   "id": "8d5d4e4a",
   "metadata": {},
   "outputs": [
    {
     "data": {
      "text/html": [
       "<div>\n",
       "<style scoped>\n",
       "    .dataframe tbody tr th:only-of-type {\n",
       "        vertical-align: middle;\n",
       "    }\n",
       "\n",
       "    .dataframe tbody tr th {\n",
       "        vertical-align: top;\n",
       "    }\n",
       "\n",
       "    .dataframe thead th {\n",
       "        text-align: right;\n",
       "    }\n",
       "</style>\n",
       "<table border=\"1\" class=\"dataframe\">\n",
       "  <thead>\n",
       "    <tr style=\"text-align: right;\">\n",
       "      <th></th>\n",
       "      <th>crs_dep_time</th>\n",
       "      <th>weather_type</th>\n",
       "      <th>arr_delay</th>\n",
       "      <th>dep_time_hour_weight</th>\n",
       "      <th>month</th>\n",
       "      <th>month_weight</th>\n",
       "    </tr>\n",
       "  </thead>\n",
       "  <tbody>\n",
       "    <tr>\n",
       "      <th>0</th>\n",
       "      <td>5</td>\n",
       "      <td>Rainy</td>\n",
       "      <td>-18.0</td>\n",
       "      <td>0.1</td>\n",
       "      <td>10</td>\n",
       "      <td>0.1</td>\n",
       "    </tr>\n",
       "    <tr>\n",
       "      <th>1</th>\n",
       "      <td>13</td>\n",
       "      <td>Rainy</td>\n",
       "      <td>-1.0</td>\n",
       "      <td>1.0</td>\n",
       "      <td>10</td>\n",
       "      <td>0.1</td>\n",
       "    </tr>\n",
       "    <tr>\n",
       "      <th>2</th>\n",
       "      <td>14</td>\n",
       "      <td>Rainy</td>\n",
       "      <td>-15.0</td>\n",
       "      <td>1.0</td>\n",
       "      <td>10</td>\n",
       "      <td>0.1</td>\n",
       "    </tr>\n",
       "    <tr>\n",
       "      <th>3</th>\n",
       "      <td>13</td>\n",
       "      <td>Rainy</td>\n",
       "      <td>-24.0</td>\n",
       "      <td>1.0</td>\n",
       "      <td>10</td>\n",
       "      <td>0.1</td>\n",
       "    </tr>\n",
       "    <tr>\n",
       "      <th>4</th>\n",
       "      <td>10</td>\n",
       "      <td>Rainy</td>\n",
       "      <td>-15.0</td>\n",
       "      <td>0.8</td>\n",
       "      <td>10</td>\n",
       "      <td>0.1</td>\n",
       "    </tr>\n",
       "  </tbody>\n",
       "</table>\n",
       "</div>"
      ],
      "text/plain": [
       "   crs_dep_time weather_type  arr_delay  dep_time_hour_weight month  \\\n",
       "0             5        Rainy      -18.0                   0.1    10   \n",
       "1            13        Rainy       -1.0                   1.0    10   \n",
       "2            14        Rainy      -15.0                   1.0    10   \n",
       "3            13        Rainy      -24.0                   1.0    10   \n",
       "4            10        Rainy      -15.0                   0.8    10   \n",
       "\n",
       "   month_weight  \n",
       "0           0.1  \n",
       "1           0.1  \n",
       "2           0.1  \n",
       "3           0.1  \n",
       "4           0.1  "
      ]
     },
     "execution_count": 20,
     "metadata": {},
     "output_type": "execute_result"
    }
   ],
   "source": [
    "df_.head()"
   ]
  },
  {
   "cell_type": "markdown",
   "id": "e6bd734c",
   "metadata": {},
   "source": [
    "# remapping weather"
   ]
  },
  {
   "cell_type": "code",
   "execution_count": 21,
   "id": "942f8f43",
   "metadata": {},
   "outputs": [
    {
     "data": {
      "text/plain": [
       "array(['Rainy', 'Sunny', 'Snowy', 'Cloudy'], dtype=object)"
      ]
     },
     "execution_count": 21,
     "metadata": {},
     "output_type": "execute_result"
    }
   ],
   "source": [
    "df_.weather_type.unique()"
   ]
  },
  {
   "cell_type": "code",
   "execution_count": 22,
   "id": "c7d71556",
   "metadata": {},
   "outputs": [
    {
     "data": {
      "text/html": [
       "<div>\n",
       "<style scoped>\n",
       "    .dataframe tbody tr th:only-of-type {\n",
       "        vertical-align: middle;\n",
       "    }\n",
       "\n",
       "    .dataframe tbody tr th {\n",
       "        vertical-align: top;\n",
       "    }\n",
       "\n",
       "    .dataframe thead th {\n",
       "        text-align: right;\n",
       "    }\n",
       "</style>\n",
       "<table border=\"1\" class=\"dataframe\">\n",
       "  <thead>\n",
       "    <tr style=\"text-align: right;\">\n",
       "      <th></th>\n",
       "      <th>crs_dep_time</th>\n",
       "      <th>weather_type</th>\n",
       "      <th>arr_delay</th>\n",
       "      <th>dep_time_hour_weight</th>\n",
       "      <th>month</th>\n",
       "      <th>month_weight</th>\n",
       "    </tr>\n",
       "  </thead>\n",
       "  <tbody>\n",
       "    <tr>\n",
       "      <th>0</th>\n",
       "      <td>5</td>\n",
       "      <td>Rainy</td>\n",
       "      <td>-18.0</td>\n",
       "      <td>0.1</td>\n",
       "      <td>10</td>\n",
       "      <td>0.1</td>\n",
       "    </tr>\n",
       "    <tr>\n",
       "      <th>1</th>\n",
       "      <td>13</td>\n",
       "      <td>Rainy</td>\n",
       "      <td>-1.0</td>\n",
       "      <td>1.0</td>\n",
       "      <td>10</td>\n",
       "      <td>0.1</td>\n",
       "    </tr>\n",
       "    <tr>\n",
       "      <th>2</th>\n",
       "      <td>14</td>\n",
       "      <td>Rainy</td>\n",
       "      <td>-15.0</td>\n",
       "      <td>1.0</td>\n",
       "      <td>10</td>\n",
       "      <td>0.1</td>\n",
       "    </tr>\n",
       "    <tr>\n",
       "      <th>3</th>\n",
       "      <td>13</td>\n",
       "      <td>Rainy</td>\n",
       "      <td>-24.0</td>\n",
       "      <td>1.0</td>\n",
       "      <td>10</td>\n",
       "      <td>0.1</td>\n",
       "    </tr>\n",
       "    <tr>\n",
       "      <th>4</th>\n",
       "      <td>10</td>\n",
       "      <td>Rainy</td>\n",
       "      <td>-15.0</td>\n",
       "      <td>0.8</td>\n",
       "      <td>10</td>\n",
       "      <td>0.1</td>\n",
       "    </tr>\n",
       "  </tbody>\n",
       "</table>\n",
       "</div>"
      ],
      "text/plain": [
       "   crs_dep_time weather_type  arr_delay  dep_time_hour_weight month  \\\n",
       "0             5        Rainy      -18.0                   0.1    10   \n",
       "1            13        Rainy       -1.0                   1.0    10   \n",
       "2            14        Rainy      -15.0                   1.0    10   \n",
       "3            13        Rainy      -24.0                   1.0    10   \n",
       "4            10        Rainy      -15.0                   0.8    10   \n",
       "\n",
       "   month_weight  \n",
       "0           0.1  \n",
       "1           0.1  \n",
       "2           0.1  \n",
       "3           0.1  \n",
       "4           0.1  "
      ]
     },
     "execution_count": 22,
     "metadata": {},
     "output_type": "execute_result"
    }
   ],
   "source": [
    "df_.head()"
   ]
  },
  {
   "cell_type": "code",
   "execution_count": 23,
   "id": "61e14d56",
   "metadata": {},
   "outputs": [],
   "source": [
    "df_ = pd.get_dummies(df_, columns=['weather_type'], drop_first=True)"
   ]
  },
  {
   "cell_type": "code",
   "execution_count": 24,
   "id": "964d5aaa",
   "metadata": {},
   "outputs": [],
   "source": [
    "# # Weather weight: Snow=10, Rain=5, Cloudy=2, Sunny=1\n",
    "# weather_remap = {\n",
    "#     \"Rainy\": 0.50,\n",
    "#     \"Sunny\": 0.10, \n",
    "#     \"Snowy\": 1,\n",
    "#     \"Cloudy\": 0.20\n",
    "# }\n",
    "# df_.weather_type = df_.weather_type.map(weather_remap)"
   ]
  },
  {
   "cell_type": "code",
   "execution_count": 25,
   "id": "e0518642",
   "metadata": {},
   "outputs": [
    {
     "data": {
      "text/html": [
       "<div>\n",
       "<style scoped>\n",
       "    .dataframe tbody tr th:only-of-type {\n",
       "        vertical-align: middle;\n",
       "    }\n",
       "\n",
       "    .dataframe tbody tr th {\n",
       "        vertical-align: top;\n",
       "    }\n",
       "\n",
       "    .dataframe thead th {\n",
       "        text-align: right;\n",
       "    }\n",
       "</style>\n",
       "<table border=\"1\" class=\"dataframe\">\n",
       "  <thead>\n",
       "    <tr style=\"text-align: right;\">\n",
       "      <th></th>\n",
       "      <th>crs_dep_time</th>\n",
       "      <th>arr_delay</th>\n",
       "      <th>dep_time_hour_weight</th>\n",
       "      <th>month</th>\n",
       "      <th>month_weight</th>\n",
       "      <th>weather_type_Rainy</th>\n",
       "      <th>weather_type_Snowy</th>\n",
       "      <th>weather_type_Sunny</th>\n",
       "    </tr>\n",
       "  </thead>\n",
       "  <tbody>\n",
       "    <tr>\n",
       "      <th>0</th>\n",
       "      <td>5</td>\n",
       "      <td>-18.0</td>\n",
       "      <td>0.1</td>\n",
       "      <td>10</td>\n",
       "      <td>0.1</td>\n",
       "      <td>1</td>\n",
       "      <td>0</td>\n",
       "      <td>0</td>\n",
       "    </tr>\n",
       "    <tr>\n",
       "      <th>1</th>\n",
       "      <td>13</td>\n",
       "      <td>-1.0</td>\n",
       "      <td>1.0</td>\n",
       "      <td>10</td>\n",
       "      <td>0.1</td>\n",
       "      <td>1</td>\n",
       "      <td>0</td>\n",
       "      <td>0</td>\n",
       "    </tr>\n",
       "    <tr>\n",
       "      <th>2</th>\n",
       "      <td>14</td>\n",
       "      <td>-15.0</td>\n",
       "      <td>1.0</td>\n",
       "      <td>10</td>\n",
       "      <td>0.1</td>\n",
       "      <td>1</td>\n",
       "      <td>0</td>\n",
       "      <td>0</td>\n",
       "    </tr>\n",
       "    <tr>\n",
       "      <th>3</th>\n",
       "      <td>13</td>\n",
       "      <td>-24.0</td>\n",
       "      <td>1.0</td>\n",
       "      <td>10</td>\n",
       "      <td>0.1</td>\n",
       "      <td>1</td>\n",
       "      <td>0</td>\n",
       "      <td>0</td>\n",
       "    </tr>\n",
       "    <tr>\n",
       "      <th>4</th>\n",
       "      <td>10</td>\n",
       "      <td>-15.0</td>\n",
       "      <td>0.8</td>\n",
       "      <td>10</td>\n",
       "      <td>0.1</td>\n",
       "      <td>1</td>\n",
       "      <td>0</td>\n",
       "      <td>0</td>\n",
       "    </tr>\n",
       "  </tbody>\n",
       "</table>\n",
       "</div>"
      ],
      "text/plain": [
       "   crs_dep_time  arr_delay  dep_time_hour_weight month  month_weight  \\\n",
       "0             5      -18.0                   0.1    10           0.1   \n",
       "1            13       -1.0                   1.0    10           0.1   \n",
       "2            14      -15.0                   1.0    10           0.1   \n",
       "3            13      -24.0                   1.0    10           0.1   \n",
       "4            10      -15.0                   0.8    10           0.1   \n",
       "\n",
       "   weather_type_Rainy  weather_type_Snowy  weather_type_Sunny  \n",
       "0                   1                   0                   0  \n",
       "1                   1                   0                   0  \n",
       "2                   1                   0                   0  \n",
       "3                   1                   0                   0  \n",
       "4                   1                   0                   0  "
      ]
     },
     "execution_count": 25,
     "metadata": {},
     "output_type": "execute_result"
    }
   ],
   "source": [
    "df_.head()"
   ]
  },
  {
   "cell_type": "code",
   "execution_count": 26,
   "id": "9bff0473",
   "metadata": {},
   "outputs": [
    {
     "data": {
      "text/plain": [
       "crs_dep_time            0\n",
       "arr_delay               0\n",
       "dep_time_hour_weight    0\n",
       "month                   0\n",
       "month_weight            0\n",
       "weather_type_Rainy      0\n",
       "weather_type_Snowy      0\n",
       "weather_type_Sunny      0\n",
       "dtype: int64"
      ]
     },
     "execution_count": 26,
     "metadata": {},
     "output_type": "execute_result"
    }
   ],
   "source": [
    "df_.isna().sum()"
   ]
  },
  {
   "cell_type": "code",
   "execution_count": 27,
   "id": "55a19958",
   "metadata": {},
   "outputs": [],
   "source": [
    "# # Used dummies before, got 0.03 to 0.06 results. Trying feature selection/engineering next.\n",
    "# df_dummies = pd.get_dummies(df_, columns=['weather_type'])\n",
    "# df_dummies = pd.get_dummies(df_dummies, columns=['op_unique_carrier'])\n",
    "# df_dummies = pd.get_dummies(df_dummies, columns=['origin'])"
   ]
  },
  {
   "cell_type": "code",
   "execution_count": 28,
   "id": "8cb34aeb",
   "metadata": {},
   "outputs": [
    {
     "data": {
      "text/html": [
       "<div>\n",
       "<style scoped>\n",
       "    .dataframe tbody tr th:only-of-type {\n",
       "        vertical-align: middle;\n",
       "    }\n",
       "\n",
       "    .dataframe tbody tr th {\n",
       "        vertical-align: top;\n",
       "    }\n",
       "\n",
       "    .dataframe thead th {\n",
       "        text-align: right;\n",
       "    }\n",
       "</style>\n",
       "<table border=\"1\" class=\"dataframe\">\n",
       "  <thead>\n",
       "    <tr style=\"text-align: right;\">\n",
       "      <th></th>\n",
       "      <th>crs_dep_time</th>\n",
       "      <th>arr_delay</th>\n",
       "      <th>dep_time_hour_weight</th>\n",
       "      <th>month</th>\n",
       "      <th>month_weight</th>\n",
       "      <th>weather_type_Rainy</th>\n",
       "      <th>weather_type_Snowy</th>\n",
       "      <th>weather_type_Sunny</th>\n",
       "    </tr>\n",
       "  </thead>\n",
       "  <tbody>\n",
       "    <tr>\n",
       "      <th>0</th>\n",
       "      <td>5</td>\n",
       "      <td>-18.0</td>\n",
       "      <td>0.1</td>\n",
       "      <td>10</td>\n",
       "      <td>0.1</td>\n",
       "      <td>1</td>\n",
       "      <td>0</td>\n",
       "      <td>0</td>\n",
       "    </tr>\n",
       "    <tr>\n",
       "      <th>1</th>\n",
       "      <td>13</td>\n",
       "      <td>-1.0</td>\n",
       "      <td>1.0</td>\n",
       "      <td>10</td>\n",
       "      <td>0.1</td>\n",
       "      <td>1</td>\n",
       "      <td>0</td>\n",
       "      <td>0</td>\n",
       "    </tr>\n",
       "    <tr>\n",
       "      <th>2</th>\n",
       "      <td>14</td>\n",
       "      <td>-15.0</td>\n",
       "      <td>1.0</td>\n",
       "      <td>10</td>\n",
       "      <td>0.1</td>\n",
       "      <td>1</td>\n",
       "      <td>0</td>\n",
       "      <td>0</td>\n",
       "    </tr>\n",
       "    <tr>\n",
       "      <th>3</th>\n",
       "      <td>13</td>\n",
       "      <td>-24.0</td>\n",
       "      <td>1.0</td>\n",
       "      <td>10</td>\n",
       "      <td>0.1</td>\n",
       "      <td>1</td>\n",
       "      <td>0</td>\n",
       "      <td>0</td>\n",
       "    </tr>\n",
       "    <tr>\n",
       "      <th>4</th>\n",
       "      <td>10</td>\n",
       "      <td>-15.0</td>\n",
       "      <td>0.8</td>\n",
       "      <td>10</td>\n",
       "      <td>0.1</td>\n",
       "      <td>1</td>\n",
       "      <td>0</td>\n",
       "      <td>0</td>\n",
       "    </tr>\n",
       "  </tbody>\n",
       "</table>\n",
       "</div>"
      ],
      "text/plain": [
       "   crs_dep_time  arr_delay  dep_time_hour_weight month  month_weight  \\\n",
       "0             5      -18.0                   0.1    10           0.1   \n",
       "1            13       -1.0                   1.0    10           0.1   \n",
       "2            14      -15.0                   1.0    10           0.1   \n",
       "3            13      -24.0                   1.0    10           0.1   \n",
       "4            10      -15.0                   0.8    10           0.1   \n",
       "\n",
       "   weather_type_Rainy  weather_type_Snowy  weather_type_Sunny  \n",
       "0                   1                   0                   0  \n",
       "1                   1                   0                   0  \n",
       "2                   1                   0                   0  \n",
       "3                   1                   0                   0  \n",
       "4                   1                   0                   0  "
      ]
     },
     "execution_count": 28,
     "metadata": {},
     "output_type": "execute_result"
    }
   ],
   "source": [
    "df_.head()"
   ]
  },
  {
   "cell_type": "code",
   "execution_count": 29,
   "id": "5fe368b5",
   "metadata": {},
   "outputs": [
    {
     "data": {
      "image/png": "[encoded data removed]",
      "text/plain": [
       "<Figure size 432x288 with 1 Axes>"
      ]
     },
     "metadata": {},
     "output_type": "display_data"
    }
   ],
   "source": [
    "sns.histplot(df_.arr_delay);"
   ]
  },
  {
   "cell_type": "markdown",
   "id": "6bc74eb6",
   "metadata": {},
   "source": [
    "# Smote and balance"
   ]
  },
  {
   "cell_type": "code",
   "execution_count": 30,
   "id": "aa7b16dd",
   "metadata": {},
   "outputs": [],
   "source": [
    "df_checkpoint = df_.copy()\n",
    "df_checkpoint = df_checkpoint.sample(frac=0.25)"
   ]
  },
  {
   "cell_type": "code",
   "execution_count": 31,
   "id": "fb512255",
   "metadata": {},
   "outputs": [],
   "source": [
    "X = df_checkpoint[df_checkpoint.columns.difference(['arr_delay'])]\n",
    "y = df_checkpoint[\"arr_delay\"]"
   ]
  },
  {
   "cell_type": "code",
   "execution_count": 32,
   "id": "65fc2242",
   "metadata": {},
   "outputs": [
    {
     "name": "stdout",
     "output_type": "stream",
     "text": [
      "(518279, 7)\n",
      "(518279,)\n"
     ]
    }
   ],
   "source": [
    "print(X.shape)\n",
    "print(y.shape)"
   ]
  },
  {
   "cell_type": "code",
   "execution_count": 33,
   "id": "e8f6b71b",
   "metadata": {},
   "outputs": [],
   "source": [
    "y = pd.DataFrame(y)"
   ]
  },
  {
   "cell_type": "code",
   "execution_count": 34,
   "id": "197d9759",
   "metadata": {},
   "outputs": [],
   "source": [
    "y[y < 0] = 0"
   ]
  },
  {
   "cell_type": "code",
   "execution_count": 35,
   "id": "edee4566",
   "metadata": {},
   "outputs": [
    {
     "data": {
      "text/plain": [
       "(518279, 1)"
      ]
     },
     "execution_count": 35,
     "metadata": {},
     "output_type": "execute_result"
    }
   ],
   "source": [
    "y.shape"
   ]
  },
  {
   "cell_type": "code",
   "execution_count": 36,
   "id": "eb6a5158",
   "metadata": {},
   "outputs": [
    {
     "data": {
      "image/png": "[encoded data removed]",
      "text/plain": [
       "<Figure size 432x288 with 1 Axes>"
      ]
     },
     "metadata": {},
     "output_type": "display_data"
    }
   ],
   "source": [
    "sns.histplot(y); # super imbalanced."
   ]
  },
  {
   "cell_type": "code",
   "execution_count": 37,
   "id": "aaf4e41d",
   "metadata": {},
   "outputs": [],
   "source": [
    "# check version number\n",
    "import imblearn\n",
    "# transform the dataset\n",
    "from collections import Counter\n",
    "from sklearn.datasets import make_classification\n",
    "from imblearn.over_sampling import SMOTE \n",
    "oversample = SMOTE()\n",
    "X, y = oversample.fit_resample(X, y)"
   ]
  },
  {
   "cell_type": "code",
   "execution_count": 38,
   "id": "3d7c3b56",
   "metadata": {},
   "outputs": [
    {
     "name": "stdout",
     "output_type": "stream",
     "text": [
      "(16811640, 7)\n",
      "(16811640, 1)\n"
     ]
    }
   ],
   "source": [
    "print(X.shape)\n",
    "print(y.shape)"
   ]
  },
  {
   "cell_type": "code",
   "execution_count": 39,
   "id": "adaa57c9",
   "metadata": {},
   "outputs": [
    {
     "data": {
      "image/png": "[encoded data removed]",
      "text/plain": [
       "<Figure size 432x288 with 1 Axes>"
      ]
     },
     "metadata": {},
     "output_type": "display_data"
    }
   ],
   "source": [
    "sns.histplot(y);"
   ]
  },
  {
   "cell_type": "markdown",
   "id": "50ce0ddb",
   "metadata": {},
   "source": [
    "## 16 MILLION ROWS but balanced."
   ]
  },
  {
   "cell_type": "code",
   "execution_count": 45,
   "id": "0279939b",
   "metadata": {},
   "outputs": [
    {
     "data": {
      "text/plain": [
       "0            0.0\n",
       "1            0.0\n",
       "2            0.0\n",
       "3            0.0\n",
       "4           14.0\n",
       "            ... \n",
       "16811635    39.0\n",
       "16811636    39.0\n",
       "16811637    39.0\n",
       "16811638    39.0\n",
       "16811639    39.0\n",
       "Name: arr_delay, Length: 16811640, dtype: float64"
      ]
     },
     "execution_count": 45,
     "metadata": {},
     "output_type": "execute_result"
    }
   ],
   "source": [
    "y.arr_delay"
   ]
  },
  {
   "cell_type": "code",
   "execution_count": 50,
   "id": "6571b6e6",
   "metadata": {},
   "outputs": [],
   "source": [
    "# remerge y to X... sample frac... resplit.\n",
    "X[\"arr_delay\"] = y.arr_delay\n",
    "X_checkpoint = X.copy()\n",
    "X_checkpoint = X_checkpoint.sample(frac=0.15)"
   ]
  },
  {
   "cell_type": "code",
   "execution_count": 51,
   "id": "4356cd8a",
   "metadata": {},
   "outputs": [],
   "source": [
    "X = X_checkpoint[X_checkpoint.columns.difference(['arr_delay'])]\n",
    "y = X_checkpoint[\"arr_delay\"]"
   ]
  },
  {
   "cell_type": "code",
   "execution_count": 55,
   "id": "03b93018",
   "metadata": {},
   "outputs": [],
   "source": [
    "y = pd.DataFrame(y)"
   ]
  },
  {
   "cell_type": "code",
   "execution_count": 56,
   "id": "1647b790",
   "metadata": {},
   "outputs": [
    {
     "name": "stdout",
     "output_type": "stream",
     "text": [
      "(2521746, 7)\n",
      "(2521746, 1)\n"
     ]
    }
   ],
   "source": [
    "print(X.shape)\n",
    "print(y.shape)"
   ]
  },
  {
   "cell_type": "markdown",
   "id": "200e9732",
   "metadata": {},
   "source": [
    "## Main Task: Regression Problem\n",
    "The target variable is ARR_DELAY. We need to be careful which columns to use and which don't. For example, DEP_DELAY is going to be the perfect predictor, but we can't use it because in real-life scenario, we want to predict the delay before the flight takes of --> We can use average delay from earlier days but not the one from the actual flight we predict.\n",
    "For example, variables CARRIER_DELAY, WEATHER_DELAY, NAS_DELAY, SECURITY_DELAY, LATE_AIRCRAFT_DELAY shouldn't be used directly as predictors as well. However, we can create various transformations from earlier values.\n",
    "We will be evaluating your models by predicting the ARR_DELAY for all flights 1 week in advance."
   ]
  },
  {
   "cell_type": "markdown",
   "id": "eaac0358",
   "metadata": {},
   "source": [
    "#### linear / logistic / multinomial logistic regression\n",
    "#### Naive Bayes\n",
    "#### Random Forest\n",
    "#### SVM\n",
    "#### XGBoost\n",
    "#### The ensemble of your own choice"
   ]
  },
  {
   "cell_type": "code",
   "execution_count": null,
   "id": "e466f7d4",
   "metadata": {},
   "outputs": [],
   "source": [
    "# X = X.replace([np.inf, -np.inf], np.nan)\n",
    "# X = X.dropna()"
   ]
  },
  {
   "cell_type": "code",
   "execution_count": 57,
   "id": "bcfa4e8c",
   "metadata": {},
   "outputs": [],
   "source": [
    "from sklearn.model_selection import train_test_split\n",
    "\n",
    "X_train,X_test,y_train,y_test = train_test_split(X,y,train_size=0.75,random_state=42)"
   ]
  },
  {
   "cell_type": "code",
   "execution_count": 58,
   "id": "513f736c",
   "metadata": {},
   "outputs": [],
   "source": [
    "from sklearn.linear_model import Lasso, Ridge, SGDRegressor, ElasticNet\n",
    "from sklearn.tree import DecisionTreeRegressor\n",
    "from sklearn.svm import SVR\n",
    "from sklearn.neighbors import KNeighborsRegressor\n",
    "from sklearn.model_selection import RepeatedKFold\n",
    "from sklearn.model_selection import cross_val_score\n",
    "from numpy import absolute\n",
    "from numpy import mean\n",
    "from numpy import std"
   ]
  },
  {
   "cell_type": "markdown",
   "id": "9f5dc116",
   "metadata": {},
   "source": [
    "## Naive Bayes Model"
   ]
  },
  {
   "cell_type": "code",
   "execution_count": 59,
   "id": "7a5956a0",
   "metadata": {},
   "outputs": [
    {
     "name": "stderr",
     "output_type": "stream",
     "text": [
      "/Users/louisrossi/opt/anaconda3/envs/ml/lib/python3.8/site-packages/sklearn/utils/validation.py:63: DataConversionWarning: A column-vector y was passed when a 1d array was expected. Please change the shape of y to (n_samples, ), for example using ravel().\n",
      "  return f(*args, **kwargs)\n"
     ]
    },
    {
     "name": "stdout",
     "output_type": "stream",
     "text": [
      "0.03442056858972427\n"
     ]
    }
   ],
   "source": [
    "# 0.0361 score\n",
    "from sklearn import naive_bayes\n",
    "gnb = naive_bayes.GaussianNB()\n",
    "gnb.fit(X_train, y_train)\n",
    "y_pred = gnb.predict(X_test)\n",
    "from sklearn import metrics\n",
    "print(metrics.accuracy_score(y_test, y_pred))\n",
    "\n",
    "# save the model to disk\n",
    "filename = 'finalized_Naive_Bayes.sav'\n",
    "pickle.dump(gnb, open(filename, 'wb'))"
   ]
  },
  {
   "cell_type": "markdown",
   "id": "3b666a15",
   "metadata": {},
   "source": [
    "## Lasso (not good)"
   ]
  },
  {
   "cell_type": "code",
   "execution_count": null,
   "id": "300ae507",
   "metadata": {},
   "outputs": [],
   "source": [
    "# 0.060 score unscaled: scaled data 0.041: after trimming huge 0.034\n",
    "model = Lasso(alpha=0.5)\n",
    "cv = RepeatedKFold(n_splits=10, n_repeats=3, random_state=42)\n",
    "scores = cross_val_score(model, X_train, y_train, scoring='neg_mean_absolute_error', cv=cv, n_jobs=-1)\n",
    "# force scores to be positive\n",
    "scores = absolute(scores)\n",
    "print('Mean MAE: %.3f (%.3f)' % (mean(scores), std(scores)))"
   ]
  },
  {
   "cell_type": "markdown",
   "id": "1a5357ec",
   "metadata": {},
   "source": [
    "## Random Forest Classifier Model"
   ]
  },
  {
   "cell_type": "code",
   "execution_count": null,
   "id": "3320d619",
   "metadata": {},
   "outputs": [],
   "source": [
    "# 0.036 score unscaled: scaled same\n",
    "from sklearn.ensemble import RandomForestClassifier\n",
    "from sklearn.datasets import make_classification\n",
    "clf = RandomForestClassifier(max_depth=3, random_state=42, n_jobs=-1)\n",
    "clf.fit(X_train, y_train)\n",
    "\n",
    "y_pred = clf.predict(X_test)\n",
    "\n",
    "# 0.03 score\n",
    "from sklearn.metrics import accuracy_score\n",
    "accuracy = accuracy_score(y_test,y_pred)\n",
    "print(accuracy)\n",
    "\n",
    "# save the model to disk\n",
    "filename = 'finalized_Random_forest.sav'\n",
    "pickle.dump(clf, open(filename, 'wb'))"
   ]
  },
  {
   "cell_type": "code",
   "execution_count": null,
   "id": "7bd95a14",
   "metadata": {},
   "outputs": [],
   "source": [
    "from sklearn import metrics\n",
    "from sklearn.metrics import log_loss, roc_auc_score, recall_score, precision_score, average_precision_score, f1_score, classification_report, accuracy_score, plot_roc_curve, plot_precision_recall_curve, plot_confusion_matrix\n",
    "\n",
    "print(\"Confusion Matrix\")\n",
    "plot_confusion_matrix(clf, X_test, y_test)"
   ]
  },
  {
   "cell_type": "markdown",
   "id": "0b13bcf8",
   "metadata": {},
   "source": [
    "## Gridsearch cells. Do not run."
   ]
  },
  {
   "cell_type": "code",
   "execution_count": null,
   "id": "9c9ab34a",
   "metadata": {},
   "outputs": [],
   "source": [
    "# # parameter grid\n",
    "# parameter_candidates = {\n",
    "#     'n_estimators':[270, 285, 300],\n",
    "#     'max_depth':[3]\n",
    "# }\n",
    "# from sklearn import datasets, svm\n",
    "# from sklearn.model_selection import GridSearchCV\n",
    "# grid_result = GridSearchCV(clf, param_grid=parameter_candidates, n_jobs=-1)\n",
    "# the_fit = grid_result.fit(X_train, y_train.values.ravel())\n",
    "# bestresult = grid_result.best_estimator_"
   ]
  },
  {
   "cell_type": "code",
   "execution_count": null,
   "id": "7e65b10a",
   "metadata": {},
   "outputs": [],
   "source": [
    "# # View the accuracy score best run: MD3, nest300 score:0.04\n",
    "# print('Best score for data1:', grid_result.best_score_) \n",
    "# print(grid_result.best_params_)\n",
    "# print(bestresult)\n",
    "# grid_result.score(X_train, y_train)"
   ]
  },
  {
   "cell_type": "markdown",
   "id": "c0dec693",
   "metadata": {},
   "source": [
    "## Random Forest tuned"
   ]
  },
  {
   "cell_type": "code",
   "execution_count": null,
   "id": "c1637e6f",
   "metadata": {},
   "outputs": [],
   "source": [
    "# 0.036 score unscaled frac=0.25 : scaled full data score SAME 0.036\n",
    "from sklearn.ensemble import RandomForestClassifier\n",
    "from sklearn.datasets import make_classification\n",
    "clf = RandomForestClassifier(max_depth=3, n_estimators=285, random_state=42, n_jobs=-1)\n",
    "clf.fit(X_train, y_train)\n",
    "\n",
    "y_pred = clf.predict(X_test)\n",
    "\n",
    "#  score\n",
    "from sklearn.metrics import accuracy_score\n",
    "accuracy = accuracy_score(y_test,y_pred)\n",
    "print(accuracy)\n",
    "print(y_test)\n",
    "print(y_pred)"
   ]
  },
  {
   "cell_type": "markdown",
   "id": "4344c49a",
   "metadata": {},
   "source": [
    "## Linear/Log Regression"
   ]
  },
  {
   "cell_type": "code",
   "execution_count": null,
   "id": "04658ab3",
   "metadata": {},
   "outputs": [],
   "source": [
    "from sklearn.linear_model import LinearRegression\n",
    "reg = LinearRegression().fit(X_train, y_train)\n",
    "print(reg.score(X_train, y_train))\n",
    "\n",
    "# save the model to disk\n",
    "filename = 'finalized_LinReg.sav'\n",
    "pickle.dump(reg, open(filename, 'wb'))"
   ]
  },
  {
   "cell_type": "code",
   "execution_count": null,
   "id": "d8fa8a08",
   "metadata": {},
   "outputs": [],
   "source": [
    "reg.coef_"
   ]
  },
  {
   "cell_type": "code",
   "execution_count": null,
   "id": "c4aec0fe",
   "metadata": {},
   "outputs": [],
   "source": [
    "reg.intercept_"
   ]
  },
  {
   "cell_type": "markdown",
   "id": "955dad90",
   "metadata": {},
   "source": [
    "## Decision Tree"
   ]
  },
  {
   "cell_type": "code",
   "execution_count": null,
   "id": "f0d431af",
   "metadata": {},
   "outputs": [],
   "source": [
    "from sklearn.tree import DecisionTreeClassifier\n",
    "from sklearn import metrics\n",
    "clf_dt = DecisionTreeClassifier()\n",
    "clf_dt = clf_dt.fit(X_train,y_train)\n",
    "y_pred = clf_dt.predict(X_test)\n",
    "print(\"Accuracy:\",metrics.accuracy_score(y_test, y_pred))\n",
    "\n",
    "# save the model to disk\n",
    "filename = 'finalized_Decision_Tree.sav'\n",
    "pickle.dump(clf_dt, open(filename, 'wb'))"
   ]
  },
  {
   "cell_type": "code",
   "execution_count": null,
   "id": "2d067306",
   "metadata": {},
   "outputs": [],
   "source": [
    "# How do I visualize a tree?"
   ]
  },
  {
   "cell_type": "markdown",
   "id": "f802c5a6",
   "metadata": {},
   "source": [
    "## SVM (do not run)"
   ]
  },
  {
   "cell_type": "code",
   "execution_count": null,
   "id": "b901e4bb",
   "metadata": {},
   "outputs": [],
   "source": [
    "# from sklearn.preprocessing import StandardScaler\n",
    "# from sklearn.preprocessing import Normalizer\n",
    "# scaler = StandardScaler()\n",
    "# scaler.fit(df_checkpoint)\n",
    "# X = scaler.transform(df_checkpoint.loc[:, df_checkpoint.columns != 'arr_delay'])\n",
    "# X = df_checkpoint[df_checkpoint.columns.difference(['arr_delay'])]\n",
    "# y = df_checkpoint[\"arr_delay\"]"
   ]
  },
  {
   "cell_type": "code",
   "execution_count": null,
   "id": "f07ff7e0",
   "metadata": {},
   "outputs": [],
   "source": [
    "# from sklearn import svm\n",
    "# clf = svm.SVC(kernel='poly')\n",
    "# clf.fit(X_train, y_train.values.ravel())\n",
    "# y_pred = clf.predict(X_test)"
   ]
  },
  {
   "cell_type": "code",
   "execution_count": null,
   "id": "01dcbaa0",
   "metadata": {},
   "outputs": [],
   "source": [
    "# from sklearn.metrics import confusion_matrix\n",
    "# confusion_matrix(y_test, y_pred)"
   ]
  },
  {
   "cell_type": "code",
   "execution_count": null,
   "id": "e4542121",
   "metadata": {},
   "outputs": [],
   "source": [
    "# clf2 = svm.SVC(kernel='rbf')\n",
    "# clf2.fit(X_train, y_train.values.ravel())\n",
    "# y_pred2 = clf2.predict(X_test)"
   ]
  },
  {
   "cell_type": "code",
   "execution_count": null,
   "id": "38adec23",
   "metadata": {},
   "outputs": [],
   "source": [
    "# from sklearn.metrics import confusion_matrix\n",
    "# confusion_matrix(y_test, y_pred2)"
   ]
  },
  {
   "cell_type": "code",
   "execution_count": null,
   "id": "2c05e446",
   "metadata": {},
   "outputs": [],
   "source": [
    "# clf3 = svm.SVC(kernel='sigmoid')\n",
    "# clf3.fit(X_train, y_train.values.ravel())\n",
    "# y_pred3 = clf3.predict(X_test)"
   ]
  },
  {
   "cell_type": "code",
   "execution_count": null,
   "id": "e892fc1c",
   "metadata": {},
   "outputs": [],
   "source": [
    "# from sklearn.metrics import confusion_matrix\n",
    "# confusion_matrix(y_test, y_pred3)"
   ]
  },
  {
   "cell_type": "code",
   "execution_count": null,
   "id": "4a6d48fd",
   "metadata": {},
   "outputs": [],
   "source": [
    "# from sklearn import metrics\n",
    "# print(\"Accuracy poly:\",metrics.accuracy_score(y_test, y_pred))\n",
    "# print(\"Accuracy rbg:\",metrics.accuracy_score(y_test, y_pred2))\n",
    "# print(\"Accuracy sigmoid:\",metrics.accuracy_score(y_test, y_pred3))"
   ]
  },
  {
   "cell_type": "markdown",
   "id": "58f6e6b9",
   "metadata": {},
   "source": [
    "## XGBoost"
   ]
  },
  {
   "cell_type": "code",
   "execution_count": null,
   "id": "65a74403",
   "metadata": {},
   "outputs": [],
   "source": [
    "# import xgboost as xgb\n",
    "# from sklearn.metrics import mean_squared_error\n",
    "# data_dmatrix = xgb.DMatrix(data=X, label=y)\n",
    "# xg_reg = xgb.XGBRegressor(objective ='reg:linear', # not XGBClassifier() bc regression.\n",
    "#                           colsample_bytree = 0.3, \n",
    "#                           learning_rate = 0.1,\n",
    "#                           max_depth = 3, \n",
    "#                           alpha = 10, \n",
    "#                           n_estimators = 250)"
   ]
  },
  {
   "cell_type": "code",
   "execution_count": null,
   "id": "96a7b788",
   "metadata": {},
   "outputs": [],
   "source": [
    "# Import Test Dataset, clean/merge, export with y column to CSV for submission"
   ]
  },
  {
   "cell_type": "code",
   "execution_count": null,
   "id": "bc0f1841",
   "metadata": {},
   "outputs": [],
   "source": []
  }
 ],
 "metadata": {
  "kernelspec": {
   "display_name": "Python 3 (ipykernel)",
   "language": "python",
   "name": "python3"
  },
  "language_info": {
   "codemirror_mode": {
    "name": "ipython",
    "version": 3
   },
   "file_extension": ".py",
   "mimetype": "text/x-python",
   "name": "python",
   "nbconvert_exporter": "python",
   "pygments_lexer": "ipython3",
   "version": "3.8.12"
  }
 },
 "nbformat": 4,
 "nbformat_minor": 5
}
