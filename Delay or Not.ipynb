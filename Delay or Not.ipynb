{
 "cells": [
  {
   "cell_type": "code",
   "execution_count": 25,
   "id": "027dbdea-5895-4b49-a3f0-24fb6839258a",
   "metadata": {},
   "outputs": [],
   "source": [
    "import pandas as pd\n",
    "import numpy as np\n",
    "from sklearn import preprocessing\n",
    "import matplotlib.pyplot as plt \n",
    "plt.rc(\"font\", size=14)\n",
    "from sklearn.linear_model import LogisticRegression\n",
    "from sklearn.model_selection import train_test_split\n",
    "import seaborn as sns\n",
    "sns.set(style=\"white\")\n",
    "sns.set(style=\"whitegrid\", color_codes=True)"
   ]
  },
  {
   "cell_type": "code",
   "execution_count": 26,
   "id": "c380bb59-0089-4a87-9b1b-edcb45000260",
   "metadata": {},
   "outputs": [],
   "source": [
    "df = pd.read_csv(\"data/flights_cleaned_no_outlier_iqr_with_delays.csv\")"
   ]
  },
  {
   "cell_type": "code",
   "execution_count": 27,
   "id": "c32f7656-7386-444f-b83b-aaa6dc6c0d06",
   "metadata": {},
   "outputs": [],
   "source": [
    "working = [ # ran with what the test data can do\n",
    "    #'fl_date', # get month and bin\n",
    "#     'op_unique_carrier', # most extensive name list\n",
    "#     'origin', # need 'origin' to merge weather but already merged! ;)\n",
    "#     'dest_airport_id', # not sure about this one\n",
    "    'crs_dep_time', # bin times\n",
    "#     'dep_time', # only using in TRAIN, to learn how other columns affect this\n",
    "#     'crs_arr_time',\n",
    "#     'arr_time', # only using in TRAIN, to learn how other columns affect this\n",
    "    'weather_type', # add weight values\n",
    "     'passengers', # not sure about this one\n",
    "    'arr_delay' # so we can make a target column...\n",
    "]"
   ]
  },
  {
   "cell_type": "code",
   "execution_count": 28,
   "id": "f5513079-5d26-4c0b-90ae-5d4a2cd4197b",
   "metadata": {},
   "outputs": [],
   "source": [
    "df_ = df.filter(items = working)"
   ]
  },
  {
   "cell_type": "code",
   "execution_count": 29,
   "id": "a3204dc3-91d3-4e93-9fc8-c5389d9c7ef4",
   "metadata": {},
   "outputs": [
    {
     "data": {
      "text/html": [
       "<div>\n",
       "<style scoped>\n",
       "    .dataframe tbody tr th:only-of-type {\n",
       "        vertical-align: middle;\n",
       "    }\n",
       "\n",
       "    .dataframe tbody tr th {\n",
       "        vertical-align: top;\n",
       "    }\n",
       "\n",
       "    .dataframe thead th {\n",
       "        text-align: right;\n",
       "    }\n",
       "</style>\n",
       "<table border=\"1\" class=\"dataframe\">\n",
       "  <thead>\n",
       "    <tr style=\"text-align: right;\">\n",
       "      <th></th>\n",
       "      <th>crs_dep_time</th>\n",
       "      <th>weather_type</th>\n",
       "      <th>passengers</th>\n",
       "      <th>arr_delay</th>\n",
       "    </tr>\n",
       "  </thead>\n",
       "  <tbody>\n",
       "    <tr>\n",
       "      <th>0</th>\n",
       "      <td>543</td>\n",
       "      <td>Rainy</td>\n",
       "      <td>85523.0</td>\n",
       "      <td>-18.0</td>\n",
       "    </tr>\n",
       "    <tr>\n",
       "      <th>1</th>\n",
       "      <td>1328</td>\n",
       "      <td>Rainy</td>\n",
       "      <td>85523.0</td>\n",
       "      <td>-1.0</td>\n",
       "    </tr>\n",
       "    <tr>\n",
       "      <th>2</th>\n",
       "      <td>1449</td>\n",
       "      <td>Rainy</td>\n",
       "      <td>85523.0</td>\n",
       "      <td>-15.0</td>\n",
       "    </tr>\n",
       "    <tr>\n",
       "      <th>3</th>\n",
       "      <td>1301</td>\n",
       "      <td>Rainy</td>\n",
       "      <td>85523.0</td>\n",
       "      <td>-24.0</td>\n",
       "    </tr>\n",
       "    <tr>\n",
       "      <th>4</th>\n",
       "      <td>1001</td>\n",
       "      <td>Rainy</td>\n",
       "      <td>85523.0</td>\n",
       "      <td>-15.0</td>\n",
       "    </tr>\n",
       "    <tr>\n",
       "      <th>...</th>\n",
       "      <td>...</td>\n",
       "      <td>...</td>\n",
       "      <td>...</td>\n",
       "      <td>...</td>\n",
       "    </tr>\n",
       "    <tr>\n",
       "      <th>2073110</th>\n",
       "      <td>1835</td>\n",
       "      <td>Sunny</td>\n",
       "      <td>10465.0</td>\n",
       "      <td>-10.0</td>\n",
       "    </tr>\n",
       "    <tr>\n",
       "      <th>2073111</th>\n",
       "      <td>1039</td>\n",
       "      <td>Sunny</td>\n",
       "      <td>10465.0</td>\n",
       "      <td>-30.0</td>\n",
       "    </tr>\n",
       "    <tr>\n",
       "      <th>2073112</th>\n",
       "      <td>1353</td>\n",
       "      <td>Rainy</td>\n",
       "      <td>14422.0</td>\n",
       "      <td>-11.0</td>\n",
       "    </tr>\n",
       "    <tr>\n",
       "      <th>2073113</th>\n",
       "      <td>1955</td>\n",
       "      <td>Rainy</td>\n",
       "      <td>14422.0</td>\n",
       "      <td>-19.0</td>\n",
       "    </tr>\n",
       "    <tr>\n",
       "      <th>2073114</th>\n",
       "      <td>628</td>\n",
       "      <td>Rainy</td>\n",
       "      <td>14422.0</td>\n",
       "      <td>-33.0</td>\n",
       "    </tr>\n",
       "  </tbody>\n",
       "</table>\n",
       "<p>2073115 rows × 4 columns</p>\n",
       "</div>"
      ],
      "text/plain": [
       "         crs_dep_time weather_type  passengers  arr_delay\n",
       "0                 543        Rainy     85523.0      -18.0\n",
       "1                1328        Rainy     85523.0       -1.0\n",
       "2                1449        Rainy     85523.0      -15.0\n",
       "3                1301        Rainy     85523.0      -24.0\n",
       "4                1001        Rainy     85523.0      -15.0\n",
       "...               ...          ...         ...        ...\n",
       "2073110          1835        Sunny     10465.0      -10.0\n",
       "2073111          1039        Sunny     10465.0      -30.0\n",
       "2073112          1353        Rainy     14422.0      -11.0\n",
       "2073113          1955        Rainy     14422.0      -19.0\n",
       "2073114           628        Rainy     14422.0      -33.0\n",
       "\n",
       "[2073115 rows x 4 columns]"
      ]
     },
     "execution_count": 29,
     "metadata": {},
     "output_type": "execute_result"
    }
   ],
   "source": [
    "df_"
   ]
  },
  {
   "cell_type": "code",
   "execution_count": 30,
   "id": "23381cea-8975-48f9-8d6e-94a9e3660855",
   "metadata": {},
   "outputs": [],
   "source": [
    "tcriteria = [df_['arr_delay'].between(-10000, 0.00001), df_['arr_delay'].between(0.00001, 10000)]\n",
    "\n",
    "values = [0,1]\n",
    "\n",
    "df_['arr_delay'] = np.select(tcriteria, values, 0)"
   ]
  },
  {
   "cell_type": "code",
   "execution_count": 31,
   "id": "a7d97bad-3bee-4c42-aaac-a96349ba34de",
   "metadata": {},
   "outputs": [],
   "source": [
    "tcriteria = [df_['passengers'].between(0, 10000), \n",
    "            df_['passengers'].between(10000, 30000),\n",
    "             df_['passengers'].between(30000, 50000),\n",
    "             df_['passengers'].between(50000, 70000),\n",
    "             df_['passengers'].between(70000, 10000000)]\n",
    "\n",
    "values = [1,2,3,4,5]\n",
    "\n",
    "df_['passengers'] = np.select(tcriteria, values, 0)"
   ]
  },
  {
   "cell_type": "code",
   "execution_count": 58,
   "id": "a0d3d4ca-82a1-4b15-85ea-c474527a9521",
   "metadata": {},
   "outputs": [
    {
     "data": {
      "text/plain": [
       "0    1681278\n",
       "1     391837\n",
       "Name: arr_delay, dtype: int64"
      ]
     },
     "execution_count": 58,
     "metadata": {},
     "output_type": "execute_result"
    }
   ],
   "source": [
    "df_.arr_delay.value_counts()"
   ]
  },
  {
   "cell_type": "code",
   "execution_count": 33,
   "id": "f5fb009b-90cd-4c70-9b17-d86cae8b9734",
   "metadata": {},
   "outputs": [],
   "source": [
    "df_ = pd.get_dummies(df_, columns=['weather_type'], drop_first=True)"
   ]
  },
  {
   "cell_type": "code",
   "execution_count": 34,
   "id": "f90b0437-0811-4104-b490-2c98ed8531bc",
   "metadata": {},
   "outputs": [],
   "source": [
    "df_ = pd.get_dummies(df_, columns=['passengers'], drop_first=True)"
   ]
  },
  {
   "cell_type": "code",
   "execution_count": 35,
   "id": "b3287561-6eb6-4988-9ef2-7232cf9f43c6",
   "metadata": {},
   "outputs": [],
   "source": [
    "df_.crs_dep_time = df_.crs_dep_time // 100\n",
    "crs_dep_time_remap = {\n",
    "    0: 0.10,\n",
    "    1: 0.10, \n",
    "    2: 0.10,\n",
    "    3: 0.10, \n",
    "    4: 0.10,\n",
    "    5: 0.10, \n",
    "    6: 1,\n",
    "    7: 1, \n",
    "    8: 1,\n",
    "    9: 1, \n",
    "    10: 1,\n",
    "    11: 1, \n",
    "    12: 1,\n",
    "    13: 1, \n",
    "    14: 1,\n",
    "    15: 1, \n",
    "    16: 1,\n",
    "    17: 1,\n",
    "    18: 1,\n",
    "    19: 1, \n",
    "    20: 1,\n",
    "    21: 0.50, \n",
    "    22: 0.50, \n",
    "    23: 0.50\n",
    "}\n",
    "df_[\"dep_time_hour_weight\"] = df_.crs_dep_time.map(crs_dep_time_remap)"
   ]
  },
  {
   "cell_type": "code",
   "execution_count": 41,
   "id": "1c9eb50a-79e9-494d-bf19-c5febae54198",
   "metadata": {},
   "outputs": [
    {
     "name": "stdout",
     "output_type": "stream",
     "text": [
      "length of oversampled data is  2353666\n",
      "Number of no subscription in oversampled data 1176833\n",
      "Number of subscription 1176833\n",
      "Proportion of no subscription data in oversampled data is  0.5\n",
      "Proportion of subscription data in oversampled data is  0.5\n"
     ]
    }
   ],
   "source": [
    "X = df_.loc[:, df_.columns != 'arr_delay']\n",
    "y = df_.loc[:, df_.columns == 'arr_delay']\n",
    "from imblearn.over_sampling import SMOTE \n",
    "os = SMOTE(random_state=0)\n",
    "X_train, X_test, y_train, y_test = train_test_split(X, y, test_size=0.3, random_state=0)\n",
    "columns = X_train.columns\n",
    "\n",
    "os_data_X, os_data_y=os.fit_sample(X_train, y_train)\n",
    "\n",
    "os_data_X = pd.DataFrame(data=os_data_X,columns=columns)\n",
    "os_data_y = pd.DataFrame(data=os_data_y,columns=['arr_delay'])\n",
    "\n",
    "# we can Check the numbers of our data\n",
    "print(\"length of oversampled data is \",len(os_data_X))\n",
    "print(\"Number of no subscription in oversampled data\",len(os_data_y[os_data_y['arr_delay']==0]))\n",
    "print(\"Number of subscription\",len(os_data_y[os_data_y['arr_delay']==1]))\n",
    "print(\"Proportion of no subscription data in oversampled data is \",len(os_data_y[os_data_y['arr_delay']==0])/len(os_data_X))\n",
    "print(\"Proportion of subscription data in oversampled data is \",len(os_data_y[os_data_y['arr_delay']==1])/len(os_data_X))"
   ]
  },
  {
   "cell_type": "code",
   "execution_count": 43,
   "id": "3f2b9372-8de4-4797-90b4-125375258978",
   "metadata": {},
   "outputs": [
    {
     "name": "stdout",
     "output_type": "stream",
     "text": [
      "Optimization terminated successfully.\n",
      "         Current function value: 0.485912\n",
      "         Iterations 6\n",
      "                            Results: Logit\n",
      "======================================================================\n",
      "Model:               Logit             Pseudo R-squared:  -0.002      \n",
      "Dependent Variable:  arr_delay         AIC:               2014723.5335\n",
      "Date:                2021-10-22 10:52  BIC:               2014848.9791\n",
      "No. Observations:    2073115           Log-Likelihood:    -1.0074e+06 \n",
      "Df Model:            9                 LL-Null:           -1.0050e+06 \n",
      "Df Residuals:        2073105           LLR p-value:       1.0000      \n",
      "Converged:           1.0000            Scale:             1.0000      \n",
      "No. Iterations:      6.0000                                           \n",
      "----------------------------------------------------------------------\n",
      "                      Coef.  Std.Err.     z     P>|z|   [0.025  0.975]\n",
      "----------------------------------------------------------------------\n",
      "crs_dep_time         -0.0180   0.0003  -55.3160 0.0000 -0.0187 -0.0174\n",
      "weather_type_Rainy   -0.2749   0.0060  -45.5792 0.0000 -0.2867 -0.2631\n",
      "weather_type_Snowy    0.2014   0.0080   25.1296 0.0000  0.1857  0.2171\n",
      "weather_type_Sunny   -0.5174   0.0059  -87.7350 0.0000 -0.5289 -0.5058\n",
      "passengers_1         -0.6129   0.0320  -19.1422 0.0000 -0.6756 -0.5501\n",
      "passengers_2         -0.3870   0.0208  -18.6331 0.0000 -0.4277 -0.3463\n",
      "passengers_3         -0.4120   0.0176  -23.3521 0.0000 -0.4466 -0.3774\n",
      "passengers_4         -0.4733   0.0246  -19.2073 0.0000 -0.5215 -0.4250\n",
      "passengers_5         -0.2644   0.0039  -68.2590 0.0000 -0.2720 -0.2568\n",
      "dep_time_hour_weight -0.7028   0.0061 -114.5514 0.0000 -0.7148 -0.6908\n",
      "======================================================================\n",
      "\n"
     ]
    }
   ],
   "source": [
    "import statsmodels.api as sm\n",
    "logit_model=sm.Logit(y,X)\n",
    "result=logit_model.fit()\n",
    "print(result.summary2())"
   ]
  },
  {
   "cell_type": "code",
   "execution_count": 48,
   "id": "a27bd1e6-45fe-491e-ae0a-b9d212aeddee",
   "metadata": {},
   "outputs": [
    {
     "data": {
      "text/plain": [
       "LogisticRegression()"
      ]
     },
     "execution_count": 48,
     "metadata": {},
     "output_type": "execute_result"
    }
   ],
   "source": [
    "from sklearn.linear_model import LogisticRegression\n",
    "from sklearn import metrics\n",
    "X_train, X_test, y_train, y_test = train_test_split(X, y, test_size=0.3, random_state=0)\n",
    "logreg = LogisticRegression()\n",
    "logreg.fit(X_train, y_train.values.ravel())"
   ]
  },
  {
   "cell_type": "code",
   "execution_count": 49,
   "id": "ee233af4-e5d3-4687-9934-5afe3406cc17",
   "metadata": {},
   "outputs": [
    {
     "name": "stdout",
     "output_type": "stream",
     "text": [
      "Accuracy of logistic regression classifier on test set: 0.81\n"
     ]
    }
   ],
   "source": [
    "y_pred = logreg.predict(X_test)\n",
    "print('Accuracy of logistic regression classifier on test set: {:.2f}'.format(logreg.score(X_test, y_test)))"
   ]
  },
  {
   "cell_type": "code",
   "execution_count": 50,
   "id": "1438b770-969a-4956-b9d6-9e6d2ac148c8",
   "metadata": {},
   "outputs": [
    {
     "name": "stdout",
     "output_type": "stream",
     "text": [
      "[[504445      0]\n",
      " [117490      0]]\n"
     ]
    }
   ],
   "source": [
    "from sklearn.metrics import confusion_matrix\n",
    "confusion_matrix = confusion_matrix(y_test, y_pred)\n",
    "print(confusion_matrix)"
   ]
  },
  {
   "cell_type": "code",
   "execution_count": 51,
   "id": "d393ef78-9d13-4ae7-8ba5-0c3175745792",
   "metadata": {},
   "outputs": [
    {
     "name": "stderr",
     "output_type": "stream",
     "text": [
      "/Users/nickmech/opt/anaconda3/envs/test/lib/python3.7/site-packages/sklearn/metrics/_classification.py:1221: UndefinedMetricWarning: Precision and F-score are ill-defined and being set to 0.0 in labels with no predicted samples. Use `zero_division` parameter to control this behavior.\n",
      "  _warn_prf(average, modifier, msg_start, len(result))\n"
     ]
    },
    {
     "name": "stdout",
     "output_type": "stream",
     "text": [
      "              precision    recall  f1-score   support\n",
      "\n",
      "           0       0.81      1.00      0.90    504445\n",
      "           1       0.00      0.00      0.00    117490\n",
      "\n",
      "    accuracy                           0.81    621935\n",
      "   macro avg       0.41      0.50      0.45    621935\n",
      "weighted avg       0.66      0.81      0.73    621935\n",
      "\n"
     ]
    }
   ],
   "source": [
    "from sklearn.metrics import classification_report\n",
    "print(classification_report(y_test, y_pred))"
   ]
  },
  {
   "cell_type": "code",
   "execution_count": 52,
   "id": "6548bf58-b8bf-4208-95cf-d1515ffb0606",
   "metadata": {},
   "outputs": [
    {
     "data": {
      "image/png": "[encoded data removed]",
      "text/plain": [
       "<Figure size 432x288 with 1 Axes>"
      ]
     },
     "metadata": {},
     "output_type": "display_data"
    }
   ],
   "source": [
    "from sklearn.metrics import roc_auc_score\n",
    "from sklearn.metrics import roc_curve\n",
    "logit_roc_auc = roc_auc_score(y_test, logreg.predict(X_test))\n",
    "fpr, tpr, thresholds = roc_curve(y_test, logreg.predict_proba(X_test)[:,1])\n",
    "plt.figure()\n",
    "plt.plot(fpr, tpr, label='Logistic Regression (area = %0.2f)' % logit_roc_auc)\n",
    "plt.plot([0, 1], [0, 1],'r--')\n",
    "plt.xlim([0.0, 1.0])\n",
    "plt.ylim([0.0, 1.05])\n",
    "plt.xlabel('False Positive Rate')\n",
    "plt.ylabel('True Positive Rate')\n",
    "plt.title('Receiver operating characteristic')\n",
    "plt.legend(loc=\"lower right\")\n",
    "plt.savefig('Log_ROC')\n",
    "plt.show()"
   ]
  },
  {
   "cell_type": "markdown",
   "id": "037f5b6a-8ab7-40f9-b226-3cf0dec91f63",
   "metadata": {},
   "source": [
    "No delay seems to be predictable. "
   ]
  },
  {
   "cell_type": "code",
   "execution_count": null,
   "id": "30cf5bc3-2a6a-4008-95cd-e20ddef6f838",
   "metadata": {},
   "outputs": [],
   "source": []
  }
 ],
 "metadata": {
  "kernelspec": {
   "display_name": "Python 3 (ipykernel)",
   "language": "python",
   "name": "python3"
  },
  "language_info": {
   "codemirror_mode": {
    "name": "ipython",
    "version": 3
   },
   "file_extension": ".py",
   "mimetype": "text/x-python",
   "name": "python",
   "nbconvert_exporter": "python",
   "pygments_lexer": "ipython3",
   "version": "3.7.6"
  }
 },
 "nbformat": 4,
 "nbformat_minor": 5
}
